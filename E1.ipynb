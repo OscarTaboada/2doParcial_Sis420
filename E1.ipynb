{
 "cells": [
  {
   "cell_type": "code",
   "execution_count": 287,
   "metadata": {},
   "outputs": [
    {
     "data": {
      "text/plain": [
       "' Taboada Rodas Oscar '"
      ]
     },
     "execution_count": 287,
     "metadata": {},
     "output_type": "execute_result"
    }
   ],
   "source": [
    "''' Ejercicio 1 - 2do Parcial'''\n",
    "''' Taboada Rodas Oscar '''"
   ]
  },
  {
   "cell_type": "code",
   "execution_count": 288,
   "metadata": {},
   "outputs": [],
   "source": [
    "import os\n",
    "import numpy as np\n",
    "from matplotlib import pyplot\n",
    "import pandas as pd\n",
    "from sklearn.preprocessing import StandardScaler"
   ]
  },
  {
   "cell_type": "code",
   "execution_count": 289,
   "metadata": {},
   "outputs": [
    {
     "data": {
      "text/html": [
       "<div>\n",
       "<style scoped>\n",
       "    .dataframe tbody tr th:only-of-type {\n",
       "        vertical-align: middle;\n",
       "    }\n",
       "\n",
       "    .dataframe tbody tr th {\n",
       "        vertical-align: top;\n",
       "    }\n",
       "\n",
       "    .dataframe thead th {\n",
       "        text-align: right;\n",
       "    }\n",
       "</style>\n",
       "<table border=\"1\" class=\"dataframe\">\n",
       "  <thead>\n",
       "    <tr style=\"text-align: right;\">\n",
       "      <th></th>\n",
       "      <th>Marca</th>\n",
       "      <th>Modelo (Ej: 2021, 2016)</th>\n",
       "      <th>Tipo</th>\n",
       "      <th>Numero de puertas</th>\n",
       "      <th>Transmision</th>\n",
       "      <th>Tipo Combustible</th>\n",
       "      <th>Estado del vehiculo</th>\n",
       "      <th>Costo en $us</th>\n",
       "    </tr>\n",
       "  </thead>\n",
       "  <tbody>\n",
       "    <tr>\n",
       "      <th>0</th>\n",
       "      <td>2</td>\n",
       "      <td>2011</td>\n",
       "      <td>2</td>\n",
       "      <td>4</td>\n",
       "      <td>2</td>\n",
       "      <td>1</td>\n",
       "      <td>2</td>\n",
       "      <td>99856</td>\n",
       "    </tr>\n",
       "    <tr>\n",
       "      <th>1</th>\n",
       "      <td>2</td>\n",
       "      <td>2016</td>\n",
       "      <td>3</td>\n",
       "      <td>4</td>\n",
       "      <td>1</td>\n",
       "      <td>1</td>\n",
       "      <td>2</td>\n",
       "      <td>977011</td>\n",
       "    </tr>\n",
       "    <tr>\n",
       "      <th>2</th>\n",
       "      <td>2</td>\n",
       "      <td>2016</td>\n",
       "      <td>2</td>\n",
       "      <td>4</td>\n",
       "      <td>1</td>\n",
       "      <td>1</td>\n",
       "      <td>2</td>\n",
       "      <td>977011</td>\n",
       "    </tr>\n",
       "    <tr>\n",
       "      <th>3</th>\n",
       "      <td>2</td>\n",
       "      <td>2016</td>\n",
       "      <td>2</td>\n",
       "      <td>4</td>\n",
       "      <td>1</td>\n",
       "      <td>1</td>\n",
       "      <td>1</td>\n",
       "      <td>95546</td>\n",
       "    </tr>\n",
       "    <tr>\n",
       "      <th>4</th>\n",
       "      <td>2</td>\n",
       "      <td>2017</td>\n",
       "      <td>2</td>\n",
       "      <td>4</td>\n",
       "      <td>1</td>\n",
       "      <td>2</td>\n",
       "      <td>2</td>\n",
       "      <td>948275</td>\n",
       "    </tr>\n",
       "  </tbody>\n",
       "</table>\n",
       "</div>"
      ],
      "text/plain": [
       "   Marca  Modelo (Ej: 2021, 2016)  Tipo  Numero de puertas  Transmision   \\\n",
       "0      2                     2011     2                  4             2   \n",
       "1      2                     2016     3                  4             1   \n",
       "2      2                     2016     2                  4             1   \n",
       "3      2                     2016     2                  4             1   \n",
       "4      2                     2017     2                  4             1   \n",
       "\n",
       "   Tipo Combustible   Estado del vehiculo  Costo en $us  \n",
       "0                  1                    2         99856  \n",
       "1                  1                    2        977011  \n",
       "2                  1                    2        977011  \n",
       "3                  1                    1         95546  \n",
       "4                  2                    2        948275  "
      ]
     },
     "execution_count": 289,
     "metadata": {},
     "output_type": "execute_result"
    }
   ],
   "source": [
    "data = pd.read_csv('DATASET.csv')\n",
    "data.head()"
   ]
  },
  {
   "cell_type": "code",
   "execution_count": 291,
   "metadata": {},
   "outputs": [
    {
     "name": "stdout",
     "output_type": "stream",
     "text": [
      "<class 'pandas.core.frame.DataFrame'>\n",
      "Int64Index: 1161 entries, 0 to 1160\n",
      "Data columns (total 8 columns):\n",
      " #   Column                   Non-Null Count  Dtype\n",
      "---  ------                   --------------  -----\n",
      " 0   Marca                    1161 non-null   int64\n",
      " 1   Modelo (Ej: 2021, 2016)  1161 non-null   int64\n",
      " 2   Tipo                     1161 non-null   int64\n",
      " 3   Numero de puertas        1161 non-null   int64\n",
      " 4   Transmision              1161 non-null   int64\n",
      " 5   Tipo Combustible         1161 non-null   int64\n",
      " 6   Estado del vehiculo      1161 non-null   int64\n",
      " 7   Costo en $us             1161 non-null   int64\n",
      "dtypes: int64(8)\n",
      "memory usage: 81.6 KB\n"
     ]
    }
   ],
   "source": [
    "# data = data.dropna()\n",
    "data.info()"
   ]
  },
  {
   "cell_type": "code",
   "execution_count": 292,
   "metadata": {},
   "outputs": [
    {
     "data": {
      "text/plain": [
       "array([[   2, 2011,    2,    4,    2],\n",
       "       [   2, 2016,    3,    4,    2],\n",
       "       [   2, 2016,    2,    4,    2],\n",
       "       ...,\n",
       "       [  17, 2001,    2,    5,    2],\n",
       "       [  12, 1985,    1,    4,    2],\n",
       "       [  12, 1985,    1,    4,    2]], dtype=int64)"
      ]
     },
     "execution_count": 292,
     "metadata": {},
     "output_type": "execute_result"
    }
   ],
   "source": [
    "X = data[['Marca', 'Modelo (Ej: 2021, 2016)', 'Tipo', 'Numero de puertas', 'Estado del vehiculo']].to_numpy()\n",
    "X\n"
   ]
  },
  {
   "cell_type": "code",
   "execution_count": 293,
   "metadata": {},
   "outputs": [
    {
     "data": {
      "text/plain": [
       "array([ 99856, 977011, 977011, ...,   2001,   2000,   2000], dtype=int64)"
      ]
     },
     "execution_count": 293,
     "metadata": {},
     "output_type": "execute_result"
    }
   ],
   "source": [
    "y = data['Costo en $us'].to_numpy()\n",
    "y"
   ]
  },
  {
   "cell_type": "code",
   "execution_count": 295,
   "metadata": {},
   "outputs": [],
   "source": [
    "def  normalizarCaracteristicas(X):\n",
    "    X_norm = X.copy()\n",
    "    mu = np.zeros(X.shape[1])\n",
    "    sigma = np.zeros(X.shape[1])\n",
    "\n",
    "    mu = np.mean(X, axis = 0)\n",
    "    sigma = np.std(X, axis = 0)\n",
    "    X_norm = (X - mu) / sigma\n",
    "    \n",
    "    return X_norm, mu, sigma"
   ]
  },
  {
   "cell_type": "code",
   "execution_count": 296,
   "metadata": {},
   "outputs": [
    {
     "name": "stdout",
     "output_type": "stream",
     "text": [
      "[[   2 2011    2    4    2]\n",
      " [   2 2016    3    4    2]\n",
      " [   2 2016    2    4    2]\n",
      " ...\n",
      " [  17 2001    2    5    2]\n",
      " [  12 1985    1    4    2]\n",
      " [  12 1985    1    4    2]]\n",
      "Media calculada: [1.20551249e+01 2.01165202e+03 1.92161929e+00 4.30060293e+00\n",
      " 1.85701981e+00]\n",
      "Desviación estandar calculada: [7.88867809 7.39062759 0.81325547 0.84147935 0.35005265]\n",
      "[[-1.27462736 -0.08822311  0.09637895 -0.3572315   0.40845339]\n",
      " [-1.27462736  0.58830943  1.32600486 -0.3572315   0.40845339]\n",
      " [-1.27462736  0.58830943  0.09637895 -0.3572315   0.40845339]\n",
      " ...\n",
      " [ 0.6268319  -1.44128817  0.09637895  0.8311518   0.40845339]\n",
      " [-0.00698785 -3.60619227 -1.13324697 -0.3572315   0.40845339]\n",
      " [-0.00698785 -3.60619227 -1.13324697 -0.3572315   0.40845339]]\n"
     ]
    }
   ],
   "source": [
    "X_norm, mu, sigma = normalizarCaracteristicas(X)\n",
    "\n",
    "print(X)\n",
    "print('Media calculada:', mu)\n",
    "print('Desviación estandar calculada:', sigma)\n",
    "print(X_norm)"
   ]
  },
  {
   "cell_type": "code",
   "execution_count": 297,
   "metadata": {},
   "outputs": [],
   "source": [
    "m, n = X.shape\n",
    "X_ready = np.concatenate([np.ones((m, 1)), X_norm], axis=1)"
   ]
  },
  {
   "cell_type": "code",
   "execution_count": 298,
   "metadata": {},
   "outputs": [],
   "source": [
    "def calcularCosto(X, y, theta):\n",
    "    m = y.size\n",
    "    J = 0\n",
    "    h = np.dot(X, theta)\n",
    "    # print(h)\n",
    "    J = (1/(2 * m)) * np.sum(np.square(h - y))\n",
    "    return J"
   ]
  },
  {
   "cell_type": "code",
   "execution_count": 299,
   "metadata": {},
   "outputs": [
    {
     "name": "stdout",
     "output_type": "stream",
     "text": [
      "con theta:[0. 0. 0. 0. 0. 0.] se obtiene un costo de: 105139717340.24721\n"
     ]
    }
   ],
   "source": [
    "# theta=np.array([0.1, 1.0, 0.1, 0.1, 1.0, 0.1])\n",
    "# theta = np.random.rand(6)\n",
    "theta = np.zeros(6)\n",
    "JJ = calcularCosto(X_ready, y, theta)\n",
    "print(f\"con theta:{ theta } se obtiene un costo de: {JJ}\")"
   ]
  },
  {
   "cell_type": "code",
   "execution_count": 300,
   "metadata": {},
   "outputs": [],
   "source": [
    "def calcularDescensoGradiente(X, y, theta, alpha, numero_iteraciones):\n",
    "      m = y.shape[0]\n",
    "      theta = theta.copy()\n",
    "      J_historico = []\n",
    "\n",
    "      for i in range(numero_iteraciones):\n",
    "        theta = theta - (alpha / m) * (np.dot(X, theta) - y).dot(X)\n",
    "        J_historico.append(calcularCosto(X, y, theta))\n",
    "        return theta, J_historico"
   ]
  },
  {
   "cell_type": "code",
   "execution_count": 301,
   "metadata": {},
   "outputs": [
    {
     "name": "stdout",
     "output_type": "stream",
     "text": [
      "los valores de theta calculados son: [50.05771921  2.13789029  1.81660774 -1.98871556 14.11613062  5.1388244 ]\n",
      "con un costo de: 105136975444.59972 \n"
     ]
    }
   ],
   "source": [
    "theta = np.zeros(6)\n",
    "\n",
    "num_ite = 100000\n",
    "alpha = 0.001\n",
    "\n",
    "theta, J_historico = calcularDescensoGradiente(X_ready, y, theta, alpha, num_ite)\n",
    "print(f\"los valores de theta calculados son: { theta }\")\n",
    "print(f\"con un costo de: { J_historico[-1]} \")\n"
   ]
  },
  {
   "cell_type": "code",
   "execution_count": 302,
   "metadata": {},
   "outputs": [
    {
     "name": "stdout",
     "output_type": "stream",
     "text": [
      "3797.608237682794\n"
     ]
    }
   ],
   "source": [
    "y_pred = np.dot([1, 12, 2016, 1, 4, 1], theta)\n",
    "print(y_pred)"
   ]
  },
  {
   "cell_type": "code",
   "execution_count": 303,
   "metadata": {},
   "outputs": [],
   "source": [
    "def CalcularthetaEcuacionNormal(X, y):\n",
    "    theta = np.zeros(X.shape[1])\n",
    "    theta = np.dot(np.dot(np.linalg.inv(np.dot(X.T,X)),X.T),y)\n",
    "    return theta"
   ]
  },
  {
   "cell_type": "code",
   "execution_count": 304,
   "metadata": {},
   "outputs": [],
   "source": [
    "X_ren = np.concatenate([np.ones((m, 1)), X], axis=1)"
   ]
  },
  {
   "cell_type": "code",
   "execution_count": 305,
   "metadata": {},
   "outputs": [
    {
     "name": "stdout",
     "output_type": "stream",
     "text": [
      "los valores de theta calculados son: [-4.90592593e+05  3.92424650e+02  2.16253190e+02  7.21908984e+02\n",
      "  1.65410004e+04  1.52771165e+04]\n"
     ]
    }
   ],
   "source": [
    "theta = CalcularthetaEcuacionNormal(X_ren, y);\n",
    "print(f\"los valores de theta calculados son: { theta }\")"
   ]
  },
  {
   "cell_type": "code",
   "execution_count": 306,
   "metadata": {},
   "outputs": [
    {
     "name": "stdout",
     "output_type": "stream",
     "text": [
      "Precio de un automovil (usando la ecuación de la normal): $32246\n"
     ]
    }
   ],
   "source": [
    "X_array = [1, 12, 2016, 1, 4, 1]\n",
    "price = np.dot(X_array, theta)\n",
    "\n",
    "print('Precio de un automovil (usando la ecuación de la normal): ${:.0f}'.format(price))"
   ]
  }
 ],
 "metadata": {
  "interpreter": {
   "hash": "f67c955f7bfb3d78be6ac6174f7f973351cc93ab4f9254d45affe2acb044b981"
  },
  "kernelspec": {
   "display_name": "Python 3.8.2 32-bit",
   "language": "python",
   "name": "python3"
  },
  "language_info": {
   "codemirror_mode": {
    "name": "ipython",
    "version": 3
   },
   "file_extension": ".py",
   "mimetype": "text/x-python",
   "name": "python",
   "nbconvert_exporter": "python",
   "pygments_lexer": "ipython3",
   "version": "3.8.2"
  },
  "orig_nbformat": 4
 },
 "nbformat": 4,
 "nbformat_minor": 2
}
